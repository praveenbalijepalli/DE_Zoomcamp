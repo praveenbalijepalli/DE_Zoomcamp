{
 "cells": [
  {
   "cell_type": "markdown",
   "id": "336201d2",
   "metadata": {},
   "source": [
    "## Week 6 Homework \n",
    "\n",
    "In this homework, there will be two sections, the first session focus on theoretical questions related to Kafka \n",
    "and streaming concepts and the second session asks to create a small streaming application using preferred \n",
    "programming language (Python or Java)."
   ]
  },
  {
   "cell_type": "code",
   "execution_count": null,
   "id": "86d5eca4",
   "metadata": {},
   "outputs": [],
   "source": []
  },
  {
   "cell_type": "markdown",
   "id": "8ab1b0f0",
   "metadata": {},
   "source": [
    "### Question 1: \n",
    "\n",
    "**Please select the statements that are correct**\n",
    "\n",
    "- **Kafka Node is responsible to store topics**\n",
    "- **Zookeeper is removed from Kafka cluster starting from version 4.0**\n",
    "- **Retention configuration ensures the messages not get lost over specific period of time.**\n",
    "- **Group-Id ensures the messages are distributed to associated consumers**"
   ]
  },
  {
   "cell_type": "code",
   "execution_count": 1,
   "id": "f712f983",
   "metadata": {},
   "outputs": [],
   "source": [
    "# All 4 are correct answers"
   ]
  },
  {
   "cell_type": "code",
   "execution_count": null,
   "id": "fa16242f",
   "metadata": {},
   "outputs": [],
   "source": []
  },
  {
   "cell_type": "markdown",
   "id": "581a8470",
   "metadata": {},
   "source": [
    "### Question 2: \n",
    "\n",
    "**Please select the Kafka concepts that support reliability and availability**\n",
    "\n",
    "- **Topic Replication**\n",
    "- **Topic Paritioning**\n",
    "- **Consumer Group Id**\n",
    "- **Ack All**"
   ]
  },
  {
   "cell_type": "code",
   "execution_count": 2,
   "id": "482cebd4",
   "metadata": {},
   "outputs": [],
   "source": [
    "# All 4 are correct answers"
   ]
  },
  {
   "cell_type": "code",
   "execution_count": null,
   "id": "89bfd5d1",
   "metadata": {},
   "outputs": [],
   "source": []
  },
  {
   "cell_type": "markdown",
   "id": "04a92264",
   "metadata": {},
   "source": [
    "### Question 3: \n",
    "\n",
    "**Please select the Kafka concepts that support scaling**  \n",
    "\n",
    "- **Topic Replication**\n",
    "- **Topic Paritioning**\n",
    "- **Consumer Group Id**\n",
    "- Ack All"
   ]
  },
  {
   "cell_type": "code",
   "execution_count": 3,
   "id": "4a8a7cd0",
   "metadata": {},
   "outputs": [],
   "source": [
    "# All answers except Ack All are correct."
   ]
  },
  {
   "cell_type": "code",
   "execution_count": null,
   "id": "a780d500",
   "metadata": {},
   "outputs": [],
   "source": []
  },
  {
   "cell_type": "markdown",
   "id": "f725f2aa",
   "metadata": {},
   "source": [
    "### Question 4: \n",
    "\n",
    "**Please select the attributes that are good candidates for partitioning key. \n",
    "Consider cardinality of the field you have selected and scaling aspects of your application**  \n",
    "\n",
    "- payment_type\n",
    "- **vendor_id**\n",
    "- passenger_count\n",
    "- total_amount\n",
    "- tpep_pickup_datetime\n",
    "- tpep_dropoff_datetime"
   ]
  },
  {
   "cell_type": "code",
   "execution_count": 4,
   "id": "35a6f60f",
   "metadata": {},
   "outputs": [],
   "source": [
    "import pandas as pd"
   ]
  },
  {
   "cell_type": "code",
   "execution_count": 5,
   "id": "fde194c4",
   "metadata": {},
   "outputs": [],
   "source": [
    "green_url = \"https://github.com/DataTalksClub/nyc-tlc-data/releases/download/green/green_tripdata_2019-01.csv.gz\""
   ]
  },
  {
   "cell_type": "code",
   "execution_count": 6,
   "id": "afb5b0c5",
   "metadata": {},
   "outputs": [],
   "source": [
    "green = pd.read_csv(green_url, compression='infer', low_memory=False)"
   ]
  },
  {
   "cell_type": "code",
   "execution_count": 7,
   "id": "f9db36cc",
   "metadata": {
    "scrolled": false
   },
   "outputs": [
    {
     "name": "stdout",
     "output_type": "stream",
     "text": [
      "VendorID:, \n",
      "2    537235\n",
      "1     93683\n",
      "Name: VendorID, dtype: int64\n",
      "\n",
      "lpep_pickup_datetime:, \n",
      "2019-01-06 15:15:08    13\n",
      "2019-01-24 10:16:03     6\n",
      "2019-01-15 15:44:59     6\n",
      "2019-01-12 17:05:35     6\n",
      "2019-01-20 15:40:50     6\n",
      "                       ..\n",
      "2019-01-12 10:02:40     1\n",
      "2019-01-12 09:55:31     1\n",
      "2019-01-12 09:23:13     1\n",
      "2019-01-12 09:50:25     1\n",
      "2019-01-31 23:30:05     1\n",
      "Name: lpep_pickup_datetime, Length: 541269, dtype: int64\n",
      "\n",
      "lpep_dropoff_datetime:, \n",
      "2019-01-12 00:00:00    32\n",
      "2019-01-20 00:00:00    31\n",
      "2019-01-11 00:00:00    28\n",
      "2019-01-06 00:00:00    25\n",
      "2019-01-10 00:00:00    24\n",
      "                       ..\n",
      "2019-01-12 09:35:39     1\n",
      "2019-01-12 10:21:41     1\n",
      "2019-01-12 10:00:59     1\n",
      "2019-01-12 09:31:17     1\n",
      "2019-01-31 23:22:59     1\n",
      "Name: lpep_dropoff_datetime, Length: 540701, dtype: int64\n",
      "\n",
      "store_and_fwd_flag:, \n",
      "N    629670\n",
      "Y      1248\n",
      "Name: store_and_fwd_flag, dtype: int64\n",
      "\n",
      "RatecodeID:, \n",
      "1    577797\n",
      "5     51640\n",
      "2       845\n",
      "4       430\n",
      "3       200\n",
      "6         6\n",
      "Name: RatecodeID, dtype: int64\n",
      "\n",
      "PULocationID:, \n",
      "74     42968\n",
      "75     40108\n",
      "41     33491\n",
      "7      26046\n",
      "82     24785\n",
      "       ...  \n",
      "109        2\n",
      "144        1\n",
      "27         1\n",
      "151        1\n",
      "224        1\n",
      "Name: PULocationID, Length: 256, dtype: int64\n",
      "\n",
      "DOLocationID:, \n",
      "74     22222\n",
      "42     20905\n",
      "41     18586\n",
      "7      16580\n",
      "75     16267\n",
      "       ...  \n",
      "204       11\n",
      "176        6\n",
      "2          3\n",
      "99         2\n",
      "105        1\n",
      "Name: DOLocationID, Length: 261, dtype: int64\n",
      "\n",
      "passenger_count:, \n",
      "1    543508\n",
      "2     44105\n",
      "5     20550\n",
      "6     10040\n",
      "3      8175\n",
      "4      3044\n",
      "0      1462\n",
      "8        16\n",
      "9        11\n",
      "7         7\n",
      "Name: passenger_count, dtype: int64\n",
      "\n",
      "trip_distance:, \n",
      "0.00     10721\n",
      "0.90      5901\n",
      "1.00      5878\n",
      "0.80      5819\n",
      "1.10      5424\n",
      "         ...  \n",
      "35.90        1\n",
      "27.95        1\n",
      "33.10        1\n",
      "28.12        1\n",
      "30.90        1\n",
      "Name: trip_distance, Length: 3255, dtype: int64\n",
      "\n",
      "fare_amount:, \n",
      " 6.00     30768\n",
      " 5.50     29404\n",
      " 6.50     28321\n",
      " 7.00     27873\n",
      " 5.00     27604\n",
      "          ...  \n",
      " 80.11        1\n",
      "-23.07        1\n",
      " 57.86        1\n",
      " 48.85        1\n",
      " 71.59        1\n",
      "Name: fare_amount, Length: 5438, dtype: int64\n",
      "\n",
      "extra:, \n",
      " 0.0    367895\n",
      " 0.5    146161\n",
      " 1.0    115715\n",
      "-0.5       617\n",
      "-1.0       377\n",
      " 4.5       149\n",
      "-4.5         3\n",
      " 1.8         1\n",
      "Name: extra, dtype: int64\n",
      "\n",
      "mta_tax:, \n",
      " 0.5    617822\n",
      " 0.0     10601\n",
      "-0.5      2494\n",
      " 3.8         1\n",
      "Name: mta_tax, dtype: int64\n",
      "\n",
      "tip_amount:, \n",
      "0.00     414410\n",
      "1.00      16998\n",
      "2.00      11163\n",
      "1.46       5241\n",
      "1.56       5091\n",
      "          ...  \n",
      "33.38         1\n",
      "17.19         1\n",
      "15.39         1\n",
      "20.70         1\n",
      "15.95         1\n",
      "Name: tip_amount, Length: 1382, dtype: int64\n",
      "\n",
      "tolls_amount:, \n",
      "0.00     604877\n",
      "5.76      21998\n",
      "2.64       1508\n",
      "2.16        897\n",
      "11.52       843\n",
      "          ...  \n",
      "20.90         1\n",
      "8.30          1\n",
      "19.00         1\n",
      "4.37          1\n",
      "14.66         1\n",
      "Name: tolls_amount, Length: 113, dtype: int64\n",
      "\n",
      "ehail_fee:, \n",
      "Series([], Name: ehail_fee, dtype: int64)\n",
      "\n",
      "improvement_surcharge:, \n",
      " 0.3    576265\n",
      " 0.0     52176\n",
      "-0.3      2477\n",
      "Name: improvement_surcharge, dtype: int64\n",
      "\n",
      "total_amount:, \n",
      " 7.80     19167\n",
      " 6.80     18988\n",
      " 7.30     18663\n",
      " 8.30     17156\n",
      " 8.80     16984\n",
      "          ...  \n",
      " 85.38        1\n",
      " 48.23        1\n",
      "-3.50         1\n",
      " 62.59        1\n",
      " 77.85        1\n",
      "Name: total_amount, Length: 7475, dtype: int64\n",
      "\n",
      "payment_type:, \n",
      "1    388313\n",
      "2    237857\n",
      "3      3392\n",
      "4      1330\n",
      "5        26\n",
      "Name: payment_type, dtype: int64\n",
      "\n",
      "trip_type:, \n",
      "1    579513\n",
      "2     51405\n",
      "Name: trip_type, dtype: int64\n",
      "\n",
      "congestion_surcharge:, \n",
      "0.00    84537\n",
      "2.75        1\n",
      "Name: congestion_surcharge, dtype: int64\n",
      "\n"
     ]
    }
   ],
   "source": [
    "for col in green.columns:\n",
    "    print(f\"{col}:, \\n{green[col].value_counts()}\")\n",
    "    print()\n",
    " "
   ]
  },
  {
   "cell_type": "code",
   "execution_count": 8,
   "id": "52be5fdd",
   "metadata": {},
   "outputs": [],
   "source": [
    "# Vendor_ID seems like a good choice for partitioning key as it has low cardinality which means there won't be too many\n",
    "# partitions. The also improves the scaling. All other fields have high cardinality."
   ]
  },
  {
   "cell_type": "code",
   "execution_count": null,
   "id": "fbf0c1d4",
   "metadata": {},
   "outputs": [],
   "source": []
  },
  {
   "cell_type": "markdown",
   "id": "09035c51",
   "metadata": {},
   "source": [
    "### Question 5: \n",
    "\n",
    "**Which configurations below should be provided for Kafka Consumer but not needed for Kafka Producer**\n",
    "\n",
    "- **Deserializer Configuration**\n",
    "- **Topics Subscription**\n",
    "- Bootstrap Server\n",
    "- **Group-Id**\n",
    "- **Offset**\n",
    "- Cluster Key and Cluster-Secret"
   ]
  },
  {
   "cell_type": "code",
   "execution_count": null,
   "id": "1aa0d7c8",
   "metadata": {},
   "outputs": [],
   "source": [
    "#  Deserializer Configuration, Topics Subscription, Group-Id, Offset"
   ]
  },
  {
   "cell_type": "code",
   "execution_count": null,
   "id": "e191bb35",
   "metadata": {},
   "outputs": [],
   "source": []
  },
  {
   "cell_type": "markdown",
   "id": "f4f4af9d",
   "metadata": {},
   "source": [
    "### Question 6:\n",
    "\n",
    "Please implement a streaming application, for finding out popularity of PUlocationID across green and fhv trip datasets.\n",
    "Please use the datasets [fhv_tripdata_2019-01.csv.gz](https://github.com/DataTalksClub/nyc-tlc-data/releases/tag/fhv) \n",
    "and [green_tripdata_2019-01.csv.gz](https://github.com/DataTalksClub/nyc-tlc-data/releases/tag/green)\n",
    "\n",
    "PS: If you encounter memory related issue, you can use the smaller portion of these two datasets as well, \n",
    "it is not necessary to find exact number in the  question.\n",
    "\n",
    "Your code should include following\n",
    "1. Producer that reads csv files and publish rides in corresponding kafka topics (such as rides_green, rides_fhv)\n",
    "2. Pyspark-streaming-application that reads two kafka topics\n",
    "   and writes both of them in topic rides_all and apply aggregations to find most popular pickup location."
   ]
  },
  {
   "cell_type": "code",
   "execution_count": null,
   "id": "2e7b961a",
   "metadata": {},
   "outputs": [],
   "source": []
  }
 ],
 "metadata": {
  "kernelspec": {
   "display_name": "Python 3 (ipykernel)",
   "language": "python",
   "name": "python3"
  },
  "language_info": {
   "codemirror_mode": {
    "name": "ipython",
    "version": 3
   },
   "file_extension": ".py",
   "mimetype": "text/x-python",
   "name": "python",
   "nbconvert_exporter": "python",
   "pygments_lexer": "ipython3",
   "version": "3.9.16"
  }
 },
 "nbformat": 4,
 "nbformat_minor": 5
}
