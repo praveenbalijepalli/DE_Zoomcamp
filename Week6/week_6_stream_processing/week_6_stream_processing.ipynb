{
 "cells": [
  {
   "cell_type": "markdown",
   "id": "336201d2",
   "metadata": {},
   "source": [
    "## Week 6 Homework \n",
    "\n",
    "In this homework, there will be two sections, the first session focus on theoretical questions related to Kafka \n",
    "and streaming concepts and the second session asks to create a small streaming application using preferred \n",
    "programming language (Python or Java)."
   ]
  },
  {
   "cell_type": "code",
   "execution_count": null,
   "id": "86d5eca4",
   "metadata": {},
   "outputs": [],
   "source": []
  },
  {
   "cell_type": "markdown",
   "id": "8ab1b0f0",
   "metadata": {},
   "source": [
    "### Question 1: \n",
    "\n",
    "**Please select the statements that are correct**\n",
    "\n",
    "- **Kafka Node is responsible to store topics**\n",
    "- **Zookeeper is removed from Kafka cluster starting from version 4.0**\n",
    "- **Retention configuration ensures the messages not get lost over specific period of time.**\n",
    "- **Group-Id ensures the messages are distributed to associated consumers**"
   ]
  },
  {
   "cell_type": "code",
   "execution_count": 1,
   "id": "f712f983",
   "metadata": {},
   "outputs": [],
   "source": [
    "# All 4 are correct answers"
   ]
  },
  {
   "cell_type": "code",
   "execution_count": null,
   "id": "fa16242f",
   "metadata": {},
   "outputs": [],
   "source": []
  },
  {
   "cell_type": "markdown",
   "id": "581a8470",
   "metadata": {},
   "source": [
    "### Question 2: \n",
    "\n",
    "**Please select the Kafka concepts that support reliability and availability**\n",
    "\n",
    "- **Topic Replication**\n",
    "- **Topic Paritioning**\n",
    "- **Consumer Group Id**\n",
    "- **Ack All**"
   ]
  },
  {
   "cell_type": "code",
   "execution_count": 2,
   "id": "482cebd4",
   "metadata": {},
   "outputs": [],
   "source": [
    "# All 4 are correct answers"
   ]
  },
  {
   "cell_type": "code",
   "execution_count": null,
   "id": "89bfd5d1",
   "metadata": {},
   "outputs": [],
   "source": []
  },
  {
   "cell_type": "markdown",
   "id": "04a92264",
   "metadata": {},
   "source": [
    "### Question 3: \n",
    "\n",
    "**Please select the Kafka concepts that support scaling**  \n",
    "\n",
    "- **Topic Replication**\n",
    "- **Topic Paritioning**\n",
    "- **Consumer Group Id**\n",
    "- Ack All"
   ]
  },
  {
   "cell_type": "code",
   "execution_count": 3,
   "id": "4a8a7cd0",
   "metadata": {},
   "outputs": [],
   "source": [
    "# All answers except Ack All are correct."
   ]
  },
  {
   "cell_type": "code",
   "execution_count": null,
   "id": "a780d500",
   "metadata": {},
   "outputs": [],
   "source": []
  },
  {
   "cell_type": "markdown",
   "id": "f725f2aa",
   "metadata": {},
   "source": [
    "### Question 4: \n",
    "\n",
    "**Please select the attributes that are good candidates for partitioning key. \n",
    "Consider cardinality of the field you have selected and scaling aspects of your application**  \n",
    "\n",
    "- payment_type\n",
    "- **vendor_id**\n",
    "- passenger_count\n",
    "- total_amount\n",
    "- tpep_pickup_datetime\n",
    "- tpep_dropoff_datetime"
   ]
  },
  {
   "cell_type": "code",
   "execution_count": null,
   "id": "35a6f60f",
   "metadata": {},
   "outputs": [],
   "source": [
    "import pandas as pd"
   ]
  },
  {
   "cell_type": "code",
   "execution_count": null,
   "id": "fde194c4",
   "metadata": {},
   "outputs": [],
   "source": [
    "green_url = \"https://github.com/DataTalksClub/nyc-tlc-data/releases/download/green/green_tripdata_2019-01.csv.gz\""
   ]
  },
  {
   "cell_type": "code",
   "execution_count": null,
   "id": "afb5b0c5",
   "metadata": {},
   "outputs": [],
   "source": [
    "green = pd.read_csv(green_url, compression='infer', low_memory=False)"
   ]
  },
  {
   "cell_type": "code",
   "execution_count": null,
   "id": "f9db36cc",
   "metadata": {
    "scrolled": false
   },
   "outputs": [],
   "source": [
    "for col in green.columns:\n",
    "    print(f\"{col}:, \\n{green[col].value_counts()}\")\n",
    "    print()\n",
    " "
   ]
  },
  {
   "cell_type": "code",
   "execution_count": null,
   "id": "52be5fdd",
   "metadata": {},
   "outputs": [],
   "source": [
    "# Vendor_ID seems like a good choice for partitioning key as it has low cardinality which means there won't be too many\n",
    "# partitions. The also improves the scaling. All other fields have high cardinality."
   ]
  },
  {
   "cell_type": "code",
   "execution_count": null,
   "id": "fbf0c1d4",
   "metadata": {},
   "outputs": [],
   "source": []
  },
  {
   "cell_type": "markdown",
   "id": "09035c51",
   "metadata": {},
   "source": [
    "### Question 5: \n",
    "\n",
    "**Which configurations below should be provided for Kafka Consumer but not needed for Kafka Producer**\n",
    "\n",
    "- **Deserializer Configuration**\n",
    "- **Topics Subscription**\n",
    "- Bootstrap Server\n",
    "- **Group-Id**\n",
    "- **Offset**\n",
    "- Cluster Key and Cluster-Secret"
   ]
  },
  {
   "cell_type": "code",
   "execution_count": null,
   "id": "1aa0d7c8",
   "metadata": {},
   "outputs": [],
   "source": [
    "#  Deserializer Configuration, Topics Subscription, Group-Id, Offset"
   ]
  },
  {
   "cell_type": "code",
   "execution_count": null,
   "id": "e191bb35",
   "metadata": {},
   "outputs": [],
   "source": []
  },
  {
   "cell_type": "markdown",
   "id": "f4f4af9d",
   "metadata": {},
   "source": [
    "### Question 6:\n",
    "\n",
    "Please implement a streaming application, for finding out popularity of PUlocationID across green and fhv trip datasets.\n",
    "Please use the datasets [fhv_tripdata_2019-01.csv.gz](https://github.com/DataTalksClub/nyc-tlc-data/releases/tag/fhv) \n",
    "and [green_tripdata_2019-01.csv.gz](https://github.com/DataTalksClub/nyc-tlc-data/releases/tag/green)\n",
    "\n",
    "PS: If you encounter memory related issue, you can use the smaller portion of these two datasets as well, \n",
    "it is not necessary to find exact number in the  question.\n",
    "\n",
    "Your code should include following\n",
    "1. Producer that reads csv files and publish rides in corresponding kafka topics (such as rides_green, rides_fhv)\n",
    "2. Pyspark-streaming-application that reads two kafka topics\n",
    "   and writes both of them in topic rides_all and apply aggregations to find most popular pickup location."
   ]
  },
  {
   "cell_type": "markdown",
   "id": "b4642b9c",
   "metadata": {},
   "source": [
    "   \n",
    "## Submitting the solutions\n",
    "\n",
    "* Form for submitting: https://forms.gle/rK7268U92mHJBpmW7\n",
    "* You can submit your homework multiple times. In this case, only the last submission will be used. \n",
    "\n",
    "Deadline: 13 March (Monday), 22:00 CET"
   ]
  },
  {
   "cell_type": "markdown",
   "id": "91a3353f",
   "metadata": {},
   "source": [
    "## Solution\n",
    "\n",
    "We will publish the solution here after deadline"
   ]
  },
  {
   "cell_type": "code",
   "execution_count": null,
   "id": "67a96151",
   "metadata": {},
   "outputs": [],
   "source": []
  }
 ],
 "metadata": {
  "kernelspec": {
   "display_name": "Python 3 (ipykernel)",
   "language": "python",
   "name": "python3"
  },
  "language_info": {
   "codemirror_mode": {
    "name": "ipython",
    "version": 3
   },
   "file_extension": ".py",
   "mimetype": "text/x-python",
   "name": "python",
   "nbconvert_exporter": "python",
   "pygments_lexer": "ipython3",
   "version": "3.9.16"
  }
 },
 "nbformat": 4,
 "nbformat_minor": 5
}
